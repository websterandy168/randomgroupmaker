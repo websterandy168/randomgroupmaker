{
  "nbformat": 4,
  "nbformat_minor": 0,
  "metadata": {
    "colab": {
      "provenance": [],
      "authorship_tag": "ABX9TyO5BzAu6Eq10O1rnNCLkMdO",
      "include_colab_link": true
    },
    "kernelspec": {
      "name": "python3",
      "display_name": "Python 3"
    },
    "language_info": {
      "name": "python"
    }
  },
  "cells": [
    {
      "cell_type": "markdown",
      "metadata": {
        "id": "view-in-github",
        "colab_type": "text"
      },
      "source": [
        "<a href=\"https://colab.research.google.com/github/websterandy168/randomgroupmaker/blob/main/RandomGroupMaker.ipynb\" target=\"_parent\"><img src=\"https://colab.research.google.com/assets/colab-badge.svg\" alt=\"Open In Colab\"/></a>"
      ]
    },
    {
      "cell_type": "code",
      "execution_count": null,
      "metadata": {
        "colab": {
          "base_uri": "https://localhost:8080/",
          "height": 791
        },
        "id": "sizPQcTiRQgY",
        "outputId": "0b15e610-ac0a-4d71-819e-ca9f8000c493"
      },
      "outputs": [
        {
          "output_type": "stream",
          "name": "stderr",
          "text": [
            "/usr/local/lib/python3.9/dist-packages/gradio/inputs.py:27: UserWarning: Usage of gradio.inputs is deprecated, and will not be supported in the future, please import your component from gradio.components\n",
            "  warnings.warn(\n",
            "/usr/local/lib/python3.9/dist-packages/gradio/deprecation.py:40: UserWarning: `optional` parameter is deprecated, and it has no effect\n",
            "  warnings.warn(value)\n",
            "/usr/local/lib/python3.9/dist-packages/gradio/deprecation.py:40: UserWarning: `numeric` parameter is deprecated, and it has no effect\n",
            "  warnings.warn(value)\n",
            "/usr/local/lib/python3.9/dist-packages/gradio/inputs.py:89: UserWarning: Usage of gradio.inputs is deprecated, and will not be supported in the future, please import your component from gradio.components\n",
            "  warnings.warn(\n",
            "/usr/local/lib/python3.9/dist-packages/gradio/outputs.py:22: UserWarning: Usage of gradio.outputs is deprecated, and will not be supported in the future, please import your components from gradio.components\n",
            "  warnings.warn(\n"
          ]
        },
        {
          "output_type": "stream",
          "name": "stdout",
          "text": [
            "Colab notebook detected. To show errors in colab notebook, set debug=True in launch()\n",
            "Running on public URL: https://813170dd5016171074.gradio.live\n",
            "\n",
            "This share link expires in 72 hours. For free permanent hosting and GPU upgrades (NEW!), check out Spaces: https://huggingface.co/spaces\n"
          ]
        },
        {
          "output_type": "display_data",
          "data": {
            "text/plain": [
              "<IPython.core.display.HTML object>"
            ],
            "text/html": [
              "<div><iframe src=\"https://813170dd5016171074.gradio.live\" width=\"100%\" height=\"500\" allow=\"autoplay; camera; microphone; clipboard-read; clipboard-write;\" frameborder=\"0\" allowfullscreen></iframe></div>"
            ]
          },
          "metadata": {}
        },
        {
          "output_type": "execute_result",
          "data": {
            "text/plain": []
          },
          "metadata": {},
          "execution_count": 20
        }
      ],
      "source": [
        "import gradio as gr\n",
        "import random\n",
        "\n",
        "def create_groups(names_input, min_size, max_size):\n",
        "    names = names_input.split(',')\n",
        "    names = [name.strip() for name in names if name.strip()]\n",
        "    random.shuffle(names)\n",
        "\n",
        "    if min_size > max_size:\n",
        "        return \"Error: Minimum group size cannot be larger than maximum group size.\"\n",
        "\n",
        "    groups = []\n",
        "    while len(names) >= min_size:\n",
        "        group_size = min(random.randint(min_size, max_size), len(names))\n",
        "        group = names[:group_size]\n",
        "        names = names[group_size:]\n",
        "        groups.append(group)\n",
        "\n",
        "    if names:\n",
        "        groups[-1].extend(names)\n",
        "\n",
        "    output = \"\"\n",
        "    for i, group in enumerate(groups, 1):\n",
        "        output += f\"Group {i}: {', '.join(group)}\\n\"\n",
        "\n",
        "    return output.strip()\n",
        "\n",
        "iface = gr.Interface(\n",
        "    fn=create_groups,\n",
        "    inputs=[\n",
        "        gr.inputs.Textbox(lines=5, label=\"Names (comma-separated)\"),\n",
        "        gr.inputs.Slider(minimum=1, maximum=10, default=1, step=1, label=\"Min Group Size\"),\n",
        "        gr.inputs.Slider(minimum=1, maximum=10, default=3, step=1, label=\"Max Group Size\"),\n",
        "    ],\n",
        "    outputs=gr.outputs.Textbox(label=\"Groups\"),\n",
        "    title=\"Group Generator\",\n",
        "    description=\"Enter a list of names separated by commas, and specify the min and max group sizes. The app will generate random groups.\",\n",
        ")\n",
        "\n",
        "#iface.launch()\n",
        "iface.launch(share=True)"
      ]
    }
  ]
}